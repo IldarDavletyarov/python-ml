{
 "cells": [
  {
   "cell_type": "code",
   "execution_count": 7,
   "id": "unknown-depression",
   "metadata": {},
   "outputs": [
    {
     "data": {
      "image/png": "[encoded data removed]",
      "text/plain": [
       "<Figure size 768x576 with 1 Axes>"
      ]
     },
     "metadata": {
      "needs_background": "light"
     },
     "output_type": "display_data"
    }
   ],
   "source": [
    "import numpy as np\n",
    "import matplotlib.pyplot as plt\n",
    "import pygame\n",
    "\n",
    "points = np.empty((0,2), dtype='f')\n",
    "    \n",
    "c_radius = 3\n",
    "c_color = (0,0,255)\n",
    "c_thickness = 0 \n",
    "jet_radius = 30\n",
    "jet_thr = .9\n",
    "\n",
    "bg_color = (255,255,255)\n",
    "(width,height) = (640,480)\n",
    "screen = pygame.display.set_mode((width,height))\n",
    "pygame.display.set_caption(\"#5\")\n",
    "\n",
    "is_running = True\n",
    "is_pushing = False\n",
    "while is_running:\n",
    "    for event in pygame.event.get():\n",
    "        if event.type == pygame.QUIT:\n",
    "            is_running = False\n",
    "        elif event.type == pygame.MOUSEBUTTONDOWN:\n",
    "            is_pushing = True\n",
    "        elif event.type == pygame.MOUSEBUTTONUP:\n",
    "            is_pushing = False\n",
    "            \n",
    "    if is_pushing and np.random.uniform(0,1)>jet_thr:        \n",
    "        (x, y) = pygame.mouse.get_pos()\n",
    "        r = np.random.uniform(0,jet_radius)\n",
    "        phi = np.random.uniform(0,2*np.pi)\n",
    "        coord = [x+r*np.cos(phi), y+r*np.sin(phi)]\n",
    "        points = np.append(points, [coord], axis=0)\n",
    "            \n",
    "    screen.fill(bg_color)\n",
    "    for point in points:\n",
    "        pygame.draw.circle(screen,c_color,(int(point[0]),int(point[1])),c_radius,c_thickness)\n",
    "    pygame.display.flip()\n",
    "    \n",
    "pygame.quit()\n",
    "\n",
    "fig = plt.figure(figsize=(width/60,height/60))\n",
    "plt.scatter(points[:,0],points[:,1],c=\"blue\")\n",
    "plt.show()"
   ]
  },
  {
   "cell_type": "code",
   "execution_count": 8,
   "id": "effective-thomson",
   "metadata": {},
   "outputs": [],
   "source": [
    "class C_Means():\n",
    "    def __init__(self, dataset, n_clusters=3, fuzzy=2, cut=.9):\n",
    "        self.dataset = dataset\n",
    "        self.n_clusters = n_clusters\n",
    "        self.fuzzy = fuzzy\n",
    "        self.cut = cut\n",
    "        self.max_n_iter = 100\n",
    "        self.tolerance = 1e-2\n",
    "        self.fitted = False\n",
    "        self.labels = np.array(np.empty(self.dataset.shape[0]), dtype='i')\n",
    "        self.centroids = self.dataset[np.random.choice(self.dataset.shape[0], size=self.n_clusters, replace=False)]\n",
    "        self.U = np.array([], dtype='f')\n",
    "        \n",
    "    def get_dist(self, list1, list2):\n",
    "        return np.sqrt(sum((i-j)**2 for i,j in zip(list1,list2)))\n",
    "    \n",
    "    def distribute_data(self):\n",
    "        dist = np.array([[self.get_dist(data,center) for center in self.centroids] for data in self.dataset])\n",
    "        rev_dist = np.where(dist == 0., sys.maxsize, (1/dist)**self.fuzzy)\n",
    "        self.U = rev_dist/rev_dist.sum(axis=1).reshape((rev_dist.shape[0],1))        \n",
    "        \n",
    "    def recalculate_centroids(self):\n",
    "        for i in range(self.n_clusters):\n",
    "            weight_sum = 0\n",
    "            temp = np.zeros(self.dataset[0].shape)\n",
    "            for k,weight in enumerate(self.U.T[i]):\n",
    "                temp += self.dataset[k] * weight\n",
    "                weight_sum += weight\n",
    "            if (weight_sum != 0):\n",
    "                self.centroids[i] = temp/weight_sum\n",
    "        \n",
    "    def get_labels(self):\n",
    "        for i in range(self.dataset.shape[0]):\n",
    "            if (np.max(self.U[i]) >= self.cut):\n",
    "                self.labels[i] = np.argmax(self.U[i]) + 1\n",
    "            else:\n",
    "                self.labels[i] = 0\n",
    "            \n",
    "    def fit(self):\n",
    "        iter = 0\n",
    "        while iter < self.max_n_iter:\n",
    "            prev_centroids = self.centroids.copy()\n",
    "            self.distribute_data()\n",
    "            self.recalculate_centroids()\n",
    "            self.get_labels()\n",
    "            if np.array([self.get_dist(i,j) for i,j in zip(prev_centroids,self.centroids)]).max()\\\n",
    "            < self.tolerance:\n",
    "                break\n",
    "            iter += 1\n",
    "        self.fitted = True\n",
    "        \n",
    "    def predict(self, list2d):\n",
    "        if not self.fitted:\n",
    "            raise Exception(\"Can not receive lables if centroids were not calculated\")\n",
    "        dist = np.array([[self.get_dist(data,center) for center in self.centroids] for data in list2d])\n",
    "        rev_dist = np.where(dist == 0., sys.maxsize, (1/dist)**self.fuzzy)\n",
    "        local_U = rev_dist/rev_dist.sum(axis=1).reshape((rev_dist.shape[0],1)) \n",
    "\n",
    "        local_labels = np.array(np.empty(list2d.shape[0]), dtype='i')\n",
    "        for i in range(list2d.shape[0]):\n",
    "            if (np.max(local_U[i]) >= self.cut):\n",
    "                local_labels[i] = np.argmax(local_U[i]) + 1\n",
    "            else:\n",
    "                local_labels[i] = 0\n",
    "        return local_labels\n",
    "\n"
   ]
  },
  {
   "cell_type": "code",
   "execution_count": 9,
   "metadata": {},
   "outputs": [
    {
     "name": "stderr",
     "output_type": "stream",
     "text": [
      "<ipython-input-8-e8ff0a8bda5b>:19: RuntimeWarning: divide by zero encountered in true_divide\n",
      "  rev_dist = np.where(dist == 0., sys.maxsize, (1/dist)**self.fuzzy)\n"
     ]
    },
    {
     "data": {
      "image/png": "[encoded data removed]",
      "text/plain": [
       "<Figure size 432x288 with 1 Axes>"
      ]
     },
     "metadata": {
      "needs_background": "light"
     },
     "output_type": "display_data"
    },
    {
     "name": "stdout",
     "output_type": "stream",
     "text": [
      "[0 0 3 0]\n"
     ]
    }
   ],
   "source": [
    "cmeans = C_Means(points)\n",
    "\n",
    "cmeans.fit()\n",
    "\n",
    "plt.scatter(points[:,0],points[:,1],c=cmeans.labels,cmap=plt.cm.Paired)\n",
    "plt.scatter(cmeans.centroids[:,0],cmeans.centroids[:,1],c='black',marker='+')\n",
    "plt.show()\n",
    "\n",
    "print(cmeans.predict(np.array([[100, 350], [300, 200], [500, 100], [400, 175]])))"
   ]
  }
 ],
 "metadata": {
  "interpreter": {
   "hash": "8c01db9d1fe128a2ba3c9e9365d9039fe64c0fc5d327303ad282c1d5af4cc1db"
  },
  "kernelspec": {
   "display_name": "Python 3.9.7 64-bit",
   "name": "python3"
  },
  "language_info": {
   "codemirror_mode": {
    "name": "ipython",
    "version": 3
   },
   "file_extension": ".py",
   "mimetype": "text/x-python",
   "name": "python",
   "nbconvert_exporter": "python",
   "pygments_lexer": "ipython3",
   "version": "3.9.4"
  }
 },
 "nbformat": 4,
 "nbformat_minor": 5
}
